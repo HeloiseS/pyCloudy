{
 "cells": [
  {
   "cell_type": "code",
   "execution_count": 1,
   "metadata": {
    "collapsed": false
   },
   "outputs": [],
   "source": [
    "%matplotlib inline\n",
    "import numpy as np\n",
    "import matplotlib.pyplot as plt"
   ]
  },
  {
   "cell_type": "code",
   "execution_count": 2,
   "metadata": {
    "collapsed": false
   },
   "outputs": [],
   "source": [
    "import pyCloudy as pc"
   ]
  },
  {
   "cell_type": "code",
   "execution_count": 3,
   "metadata": {
    "collapsed": false
   },
   "outputs": [],
   "source": [
    "# Changing the location and version of the cloudy executable.\n",
    "pc.config.cloudy_exe = '/usr/local/Cloudy/c17.01/source/cloudy.exe'"
   ]
  },
  {
   "cell_type": "code",
   "execution_count": 4,
   "metadata": {
    "collapsed": false
   },
   "outputs": [],
   "source": [
    "# We define a function that will manage the input files of Cloudy. \n",
    "# This allow to easily change some parameters, very usefull to do a grid.\n",
    "def make_model(dir_, model_name, dens, ab_O):\n",
    "    full_model_name = '{0}_{1:.0f}_{2:.2f}'.format(model_name, dens, ab_O)\n",
    "    r_min = 5e16\n",
    "    dist = 1.26\n",
    "    Teff = 45000\n",
    "    qH = 47.\n",
    "    options = ('no molecules',\n",
    "                'no level2 lines',\n",
    "                'no fine opacities',\n",
    "                'atom h-like levels small',\n",
    "                'atom he-like levels small',\n",
    "                'COSMIC RAY BACKGROUND',\n",
    "                'element limit off -8',\n",
    "                )\n",
    "    emis_tab = ['H  1  4861.33A',\n",
    "            'H  1  6562.81A',\n",
    "            'Ca B  5875.64A',\n",
    "            'N  2  6583.45A',\n",
    "            'O  1  6300.30A',\n",
    "            'O  2  3726.03A',\n",
    "            'O  2  3728.81A',\n",
    "            'O  3  5006.84A',\n",
    "            'BLND  4363.00A',\n",
    "            'S  2  6716.44A',\n",
    "            'S  2  6730.82A',\n",
    "            'Cl 3  5517.71A',\n",
    "            'Cl 3  5537.87A',\n",
    "            'O  1  63.1679m',\n",
    "            'O  1  145.495m',\n",
    "            'C  2  157.636m']\n",
    "    abund = {'He' : -0.92, 'C' : -3.15, 'N' : -4.0, 'Ne' : -4.00, \n",
    "             'S' : -5.35, 'Ar' : -5.80, 'Fe' : -7.4, 'Cl' : -7.00}\n",
    "    abund['O'] = ab_O\n",
    "    # Defining the object that will manage the input file for Cloudy\n",
    "    c_input = pc.CloudyInput('{0}{1}'.format(dir_, full_model_name))\n",
    "    # Filling the object with the parameters\n",
    "    # Defining the ionizing SED: Effective temperature and luminosity.\n",
    "    # The lumi_unit is one of the Cloudy options, like \"luminosity solar\", \"q(H)\", \"ionization parameter\", etc... \n",
    "    c_input.set_BB(Teff = Teff, lumi_unit = 'q(h)', lumi_value = qH)\n",
    "    # Defining the density. You may also use set_dlaw(parameters) if you have a density law defined in dense_fabden.cpp.\n",
    "    c_input.set_cste_density(dens)\n",
    "    # Defining the inner radius. A second parameter would be the outer radius (matter-bounded nebula).\n",
    "    c_input.set_radius(np.log10(r_min))\n",
    "    c_input.set_abund(ab_dict = abund, nograins = True)\n",
    "    c_input.set_other(options)\n",
    "    c_input.set_iterate() # (0) for no iteration, () for one iteration, (N) for N iterations.\n",
    "    c_input.set_sphere() # () or (True) : sphere, or (False): open geometry.\n",
    "    c_input.set_emis_tab(emis_tab)\n",
    "    c_input.set_distance(dist, 'kpc')\n",
    "    c_input.print_input(to_file = True, verbose = False)\n"
   ]
  },
  {
   "cell_type": "code",
   "execution_count": 5,
   "metadata": {
    "collapsed": false
   },
   "outputs": [],
   "source": [
    "# The directory in which we will have the model\n",
    "# You may want to change this to a different place so that the current directory\n",
    "# will not receive all the Cloudy files.\n",
    "dir_ = '/tmp/'"
   ]
  },
  {
   "cell_type": "code",
   "execution_count": 6,
   "metadata": {
    "collapsed": false
   },
   "outputs": [],
   "source": [
    "#writing the makefile in the directory dir_\n",
    "pc.print_make_file(dir_ = dir_)"
   ]
  },
  {
   "cell_type": "code",
   "execution_count": 7,
   "metadata": {
    "collapsed": false
   },
   "outputs": [],
   "source": [
    "# setting verbosity to medium level, change to 3 for high verbosity\n",
    "pc.log_.level = 2"
   ]
  },
  {
   "cell_type": "code",
   "execution_count": 8,
   "metadata": {
    "collapsed": false
   },
   "outputs": [],
   "source": [
    "# Generic name of the models\n",
    "model_name = 'model_2'"
   ]
  },
  {
   "cell_type": "code",
   "execution_count": 9,
   "metadata": {
    "collapsed": false
   },
   "outputs": [],
   "source": [
    "# tables for the values of the density and the log(O/H)\n",
    "tab_dens = [3, 4, 5, 6]\n",
    "tab_ab_O = [-3.1, -3.25, -3.4, -3.55, -3.7]"
   ]
  },
  {
   "cell_type": "code",
   "execution_count": 10,
   "metadata": {
    "collapsed": false
   },
   "outputs": [],
   "source": [
    "# defining the models and writing 20 input files\n",
    "for dens in tab_dens:\n",
    "    for ab_O in tab_ab_O:\n",
    "        make_model(dir_, model_name, dens, ab_O)"
   ]
  },
  {
   "cell_type": "code",
   "execution_count": 11,
   "metadata": {
    "collapsed": false
   },
   "outputs": [],
   "source": [
    "# Running the models using the makefile and n_proc processors\n",
    "n_proc = 8\n",
    "# Take, care, this will run 20 cloudy models on 3 processors! May take some time. \n",
    "# If you run all the models togeter (n_proc = 20), you will need 10 Go RAM.\n",
    "pc.run_cloudy(dir_ = dir_, n_proc = n_proc, model_name = model_name, use_make = True)"
   ]
  },
  {
   "cell_type": "code",
   "execution_count": 12,
   "metadata": {
    "collapsed": false
   },
   "outputs": [],
   "source": [
    "# reading the Cloudy outputs and putting them in a list of CloudyModel objects\n",
    "Ms = pc.load_models('{0}{1}'.format(dir_, model_name), read_grains = False)"
   ]
  },
  {
   "cell_type": "code",
   "execution_count": 13,
   "metadata": {
    "collapsed": false
   },
   "outputs": [],
   "source": [
    "#Computing line intensity ratios \n",
    "rO3 = [np.log10(M.get_emis_vol('O__3_500684A')/M.get_emis_vol('BLND_436300A')) for M in Ms]\n",
    "rO2 = [np.log10(M.get_emis_vol('O__2_372603A')/M.get_emis_vol('O__2_372881A')) for M in Ms]"
   ]
  },
  {
   "cell_type": "code",
   "execution_count": 14,
   "metadata": {
    "collapsed": false
   },
   "outputs": [],
   "source": [
    "# defining the colors associated to the Oxygen abundances\n",
    "col = [M.abund['O'] for M in Ms]"
   ]
  },
  {
   "cell_type": "code",
   "execution_count": 15,
   "metadata": {
    "collapsed": false
   },
   "outputs": [],
   "source": [
    "# defining the size as the density (at the first step, but in these models it's constant)\n",
    "#size = [np.log10(M.nH[0])*20 for M in Ms]\n",
    "size = [40*(5+M.log_U_mean) for M in Ms]"
   ]
  },
  {
   "cell_type": "code",
   "execution_count": 16,
   "metadata": {
    "collapsed": false
   },
   "outputs": [
    {
     "data": {
      "text/plain": [
       "<matplotlib.text.Text at 0x11cec2240>"
      ]
     },
     "execution_count": 16,
     "metadata": {},
     "output_type": "execute_result"
    },
    {
     "data": {
      "image/png": "[encoded data removed]",
      "text/plain": [
       "<matplotlib.figure.Figure at 0x11ce0a080>"
      ]
     },
     "metadata": {},
     "output_type": "display_data"
    }
   ],
   "source": [
    "plt.figure(figsize=(10,10))\n",
    "plt.scatter(rO2, rO3, c=col, s=size, edgecolors = 'none')\n",
    "plt.xlabel('log [OII] 3726/3729')\n",
    "plt.ylabel('log [OIII] 5007/4363')\n",
    "cb = plt.colorbar()\n",
    "cb.set_label('log(O/H)')\n",
    "plt.title('Size -> logU')"
   ]
  },
  {
   "cell_type": "code",
   "execution_count": null,
   "metadata": {
    "collapsed": false
   },
   "outputs": [],
   "source": []
  }
 ],
 "metadata": {
  "kernelspec": {
   "display_name": "Python 3",
   "language": "python",
   "name": "python3"
  },
  "language_info": {
   "codemirror_mode": {
    "name": "ipython",
    "version": 3
   },
   "file_extension": ".py",
   "mimetype": "text/x-python",
   "name": "python",
   "nbconvert_exporter": "python",
   "pygments_lexer": "ipython3",
   "version": "3.6.1"
  }
 },
 "nbformat": 4,
 "nbformat_minor": 2
}
