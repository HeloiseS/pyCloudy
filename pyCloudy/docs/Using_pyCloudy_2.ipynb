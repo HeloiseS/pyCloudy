{
 "metadata": {
  "name": "",
  "signature": "sha256:dc885b5012dd7f7a38354ec269a1f277c64e4c614684a97e0c3d355fdac87508"
 },
 "nbformat": 3,
 "nbformat_minor": 0,
 "worksheets": [
  {
   "cells": [
    {
     "cell_type": "code",
     "collapsed": false,
     "input": [
      "%matplotlib inline\n",
      "import numpy as np\n",
      "import matplotlib.pyplot as plt"
     ],
     "language": "python",
     "metadata": {},
     "outputs": [],
     "prompt_number": 1
    },
    {
     "cell_type": "code",
     "collapsed": false,
     "input": [
      "import pyCloudy as pc"
     ],
     "language": "python",
     "metadata": {},
     "outputs": [
      {
       "output_type": "stream",
       "stream": "stdout",
       "text": [
        "warng pyCloudy config: pyCloudy works better with Image (PIL)\n"
       ]
      }
     ],
     "prompt_number": 2
    },
    {
     "cell_type": "code",
     "collapsed": false,
     "input": [
      "# Changing the location and version of the cloudy executable.\n",
      "pc.config.cloudy_exe = '/usr/local/Cloudy/c13.00/cloudy.exe'"
     ],
     "language": "python",
     "metadata": {},
     "outputs": [],
     "prompt_number": 3
    },
    {
     "cell_type": "code",
     "collapsed": false,
     "input": [
      "# We define a function that will manage the input files of Cloudy. \n",
      "# This allow to easily change some parameters, very usefull to do a grid.\n",
      "def make_model(dir_, model_name, dens, ab_O):\n",
      "    full_model_name = '{0}_{1:.0f}_{2:.2f}'.format(model_name, dens, ab_O)\n",
      "    r_min = 5e16\n",
      "    dist = 1.26\n",
      "    Teff = 45000\n",
      "    qH = 47.\n",
      "    options = ('no molecules',\n",
      "                'no level2 lines',\n",
      "                'no fine opacities',\n",
      "                'atom h-like levels small',\n",
      "                'atom he-like levels small',\n",
      "                'COSMIC RAY BACKGROUND',\n",
      "                'element limit off -8',\n",
      "                )\n",
      "    emis_tab = ['H  1  4861',\n",
      "                'H  1  6563',\n",
      "                'He 1  5876',\n",
      "                'N  2  6584',\n",
      "                'O  1  6300',\n",
      "                'O II  3726',\n",
      "                'O II  3729',\n",
      "                'O  3  5007',\n",
      "                'TOTL  4363',\n",
      "                'O  1 63.17m',\n",
      "                'O  1 145.5m',\n",
      "                'C  2 157.6m',\n",
      "                'H  1 4.051m']   \n",
      "    abund = {'He' : -0.92, 'C' : -3.15, 'N' : -4.0, 'Ne' : -4.00, \n",
      "             'S' : -5.35, 'Ar' : -5.80, 'Fe' : -7.4, 'Cl' : -7.00}\n",
      "    abund['O'] = ab_O\n",
      "    # Defining the object that will manage the input file for Cloudy\n",
      "    c_input = pc.CloudyInput('{0}{1}'.format(dir_, full_model_name))\n",
      "    # Filling the object with the parameters\n",
      "    # Defining the ionizing SED: Effective temperature and luminosity.\n",
      "    # The lumi_unit is one of the Cloudy options, like \"luminosity solar\", \"q(H)\", \"ionization parameter\", etc... \n",
      "    c_input.set_BB(Teff = Teff, lumi_unit = 'q(h)', lumi_value = qH)\n",
      "    # Defining the density. You may also use set_dlaw(parameters) if you have a density law defined in dense_fabden.cpp.\n",
      "    c_input.set_cste_density(dens)\n",
      "    # Defining the inner radius. A second parameter would be the outer radius (matter-bounded nebula).\n",
      "    c_input.set_radius(np.log10(r_min))\n",
      "    c_input.set_abund(ab_dict = abund, nograins = True)\n",
      "    c_input.set_other(options)\n",
      "    c_input.set_iterate() # (0) for no iteration, () for one iteration, (N) for N iterations.\n",
      "    c_input.set_sphere() # () or (True) : sphere, or (False): open geometry.\n",
      "    c_input.set_emis_tab(emis_tab)\n",
      "    c_input.set_distance(dist, 'kpc')\n",
      "    c_input.print_input(to_file = True, verbose = False)\n"
     ],
     "language": "python",
     "metadata": {},
     "outputs": [],
     "prompt_number": 4
    },
    {
     "cell_type": "code",
     "collapsed": false,
     "input": [
      "# The directory in which we will have the model\n",
      "# You may want to change this to a different place so that the current directory\n",
      "# will not receive all the Cloudy files.\n",
      "dir_ = '/tmp/'"
     ],
     "language": "python",
     "metadata": {},
     "outputs": [],
     "prompt_number": 5
    },
    {
     "cell_type": "code",
     "collapsed": false,
     "input": [
      "#writing the makefile in the directory dir_\n",
      "pc.print_make_file(dir_ = dir_)"
     ],
     "language": "python",
     "metadata": {},
     "outputs": [],
     "prompt_number": 6
    },
    {
     "cell_type": "code",
     "collapsed": false,
     "input": [
      "# setting verbosity to medium level, change to 3 for high verbosity\n",
      "pc.log_.level = 2"
     ],
     "language": "python",
     "metadata": {},
     "outputs": [],
     "prompt_number": 7
    },
    {
     "cell_type": "code",
     "collapsed": false,
     "input": [
      "# Generic name of the models\n",
      "model_name = 'model_2'"
     ],
     "language": "python",
     "metadata": {},
     "outputs": [],
     "prompt_number": 8
    },
    {
     "cell_type": "code",
     "collapsed": false,
     "input": [
      "# tables for the values of the density and the log(O/H)\n",
      "tab_dens = [3, 4, 5, 6]\n",
      "tab_ab_O = [-3.1, -3.25, -3.4, -3.55, -3.7]"
     ],
     "language": "python",
     "metadata": {},
     "outputs": [],
     "prompt_number": 9
    },
    {
     "cell_type": "code",
     "collapsed": false,
     "input": [
      "# defining the models and writing 20 input files\n",
      "for dens in tab_dens:\n",
      "    for ab_O in tab_ab_O:\n",
      "        make_model(dir_, model_name, dens, ab_O)"
     ],
     "language": "python",
     "metadata": {},
     "outputs": [],
     "prompt_number": 10
    },
    {
     "cell_type": "code",
     "collapsed": false,
     "input": [
      "# Running the models using the makefile and n_proc processors\n",
      "n_proc = 3\n",
      "# Take, care, this will run 20 cloudy models on 3 processors! May take some time. \n",
      "# If you run all the models togeter (n_proc = 20), you will need 10 Go RAM.\n",
      "pc.run_cloudy(dir_ = dir_, n_proc = n_proc, model_name = model_name, use_make = True)"
     ],
     "language": "python",
     "metadata": {},
     "outputs": [],
     "prompt_number": 11
    },
    {
     "cell_type": "code",
     "collapsed": false,
     "input": [
      "# reading the Cloudy outputs and putting them in a list of CloudyModel objects\n",
      "Ms = pc.load_models('{0}{1}'.format(dir_, model_name), read_grains = False)"
     ],
     "language": "python",
     "metadata": {},
     "outputs": [],
     "prompt_number": 12
    },
    {
     "cell_type": "code",
     "collapsed": false,
     "input": [
      "#Computing line intensity ratios \n",
      "rO3 = [np.log10(M.get_emis_vol('O__3__5007A')/M.get_emis_vol('TOTL__4363A')) for M in Ms]\n",
      "rO2 = [np.log10(M.get_emis_vol('O_II__3726A')/M.get_emis_vol('O_II__3729A')) for M in Ms]"
     ],
     "language": "python",
     "metadata": {},
     "outputs": [],
     "prompt_number": 13
    },
    {
     "cell_type": "code",
     "collapsed": false,
     "input": [
      "# defining the colors associated to the Oxygen abundances\n",
      "col = [M.abund['O'] for M in Ms]"
     ],
     "language": "python",
     "metadata": {},
     "outputs": [],
     "prompt_number": 14
    },
    {
     "cell_type": "code",
     "collapsed": false,
     "input": [
      "# defining the size as the density (at the first step, but in these models it's constant)\n",
      "#size = [np.log10(M.nH[0])*20 for M in Ms]\n",
      "size = [40*(5+M.log_U_mean) for M in Ms]"
     ],
     "language": "python",
     "metadata": {},
     "outputs": [],
     "prompt_number": 15
    },
    {
     "cell_type": "code",
     "collapsed": false,
     "input": [
      "plt.figure(figsize=(10,10))\n",
      "plt.scatter(rO2, rO3, c=col, s=size, edgecolors = 'none')\n",
      "plt.xlabel('log [OII] 3726/3729')\n",
      "plt.ylabel('log [OIII] 5007/4363')\n",
      "cb = plt.colorbar()\n",
      "cb.set_label('log(O/H)')\n",
      "plt.title('Size -> logU')"
     ],
     "language": "python",
     "metadata": {},
     "outputs": [
      {
       "metadata": {},
       "output_type": "pyout",
       "prompt_number": 16,
       "text": [
        "<matplotlib.text.Text at 0x46f08d0>"
       ]
      },
      {
       "metadata": {},
       "output_type": "display_data",
       "png": "[encoded data removed]",
       "text": [
        "<matplotlib.figure.Figure at 0x42f1550>"
       ]
      }
     ],
     "prompt_number": 16
    },
    {
     "cell_type": "code",
     "collapsed": false,
     "input": [],
     "language": "python",
     "metadata": {},
     "outputs": [],
     "prompt_number": 16
    }
   ],
   "metadata": {}
  }
 ]
}